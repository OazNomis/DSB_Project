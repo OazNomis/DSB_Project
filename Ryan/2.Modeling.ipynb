{
 "cells": [
  {
   "cell_type": "markdown",
   "metadata": {
    "toc": true
   },
   "source": [
    "<h1>Table of Contents<span class=\"tocSkip\"></span></h1>\n",
    "<div class=\"toc\"><ul class=\"toc-item\"><li><span><a href=\"#Set-Up-Environment\" data-toc-modified-id=\"Set-Up-Environment-1\"><span class=\"toc-item-num\">1&nbsp;&nbsp;</span>Set Up Environment</a></span></li><li><span><a href=\"#Load-Data\" data-toc-modified-id=\"Load-Data-2\"><span class=\"toc-item-num\">2&nbsp;&nbsp;</span>Load Data</a></span></li><li><span><a href=\"#Train-Test-split\" data-toc-modified-id=\"Train-Test-split-3\"><span class=\"toc-item-num\">3&nbsp;&nbsp;</span>Train Test split</a></span></li><li><span><a href=\"#Dummify-dataset\" data-toc-modified-id=\"Dummify-dataset-4\"><span class=\"toc-item-num\">4&nbsp;&nbsp;</span>Dummify dataset</a></span></li><li><span><a href=\"#Scale-the-values\" data-toc-modified-id=\"Scale-the-values-5\"><span class=\"toc-item-num\">5&nbsp;&nbsp;</span>Scale the values</a></span></li><li><span><a href=\"#Modeling\" data-toc-modified-id=\"Modeling-6\"><span class=\"toc-item-num\">6&nbsp;&nbsp;</span>Modeling</a></span></li></ul></div>"
   ]
  },
  {
   "cell_type": "markdown",
   "metadata": {},
   "source": [
    "## Set Up Environment"
   ]
  },
  {
   "cell_type": "code",
   "execution_count": 3,
   "metadata": {},
   "outputs": [],
   "source": [
    "import sys\n",
    "sys.path.insert(0,'..')\n",
    "import preprocessing_module as pm\n",
    "\n",
    "import pandas as pd\n",
    "import numpy as np\n",
    "import matplotlib.pyplot as plt\n",
    "import seaborn as sns\n",
    "import warnings\n",
    "import joblib\n",
    "\n",
    "%matplotlib inline\n",
    "plt.rcParams['figure.figsize'] = (9, 6)\n",
    "sns.set(style = \"whitegrid\")\n",
    "pd.set_option('display.max_columns', 500)\n",
    "pd.set_option('display.max_rows', 500)\n",
    "warnings.filterwarnings(action=\"ignore\")"
   ]
  },
  {
   "cell_type": "code",
   "execution_count": 4,
   "metadata": {},
   "outputs": [],
   "source": [
    "from sklearn.preprocessing import StandardScaler, MinMaxScaler\n",
    "from sklearn.linear_model import LogisticRegression\n",
    "from sklearn.ensemble import RandomForestClassifier, GradientBoostingClassifier\n",
    "from sklearn.model_selection import train_test_split, GridSearchCV, RandomizedSearchCV\n",
    "from sklearn.svm import SVC\n",
    "from sklearn.metrics import confusion_matrix, recall_score, roc_curve, roc_auc_score\n",
    "# from collections import Counter\n",
    "# from sklearn.utils.class_weight import compute_sample_weight"
   ]
  },
  {
   "cell_type": "markdown",
   "metadata": {},
   "source": [
    "## Load Data"
   ]
  },
  {
   "cell_type": "code",
   "execution_count": 5,
   "metadata": {},
   "outputs": [],
   "source": [
    "accepted = pd.read_csv('../data/accepted_2007_to_2018Q4.csv')\n",
    "accepted_clean = pm.datacleaning(accepted)"
   ]
  },
  {
   "cell_type": "code",
   "execution_count": 6,
   "metadata": {},
   "outputs": [],
   "source": [
    "y = accepted_clean.loan_status\n",
    "X = accepted_clean.drop('loan_status',1)"
   ]
  },
  {
   "cell_type": "code",
   "execution_count": 8,
   "metadata": {},
   "outputs": [
    {
     "name": "stdout",
     "output_type": "stream",
     "text": [
      "(510916, 33)\n"
     ]
    },
    {
     "data": {
      "text/html": [
       "<div>\n",
       "<style scoped>\n",
       "    .dataframe tbody tr th:only-of-type {\n",
       "        vertical-align: middle;\n",
       "    }\n",
       "\n",
       "    .dataframe tbody tr th {\n",
       "        vertical-align: top;\n",
       "    }\n",
       "\n",
       "    .dataframe thead th {\n",
       "        text-align: right;\n",
       "    }\n",
       "</style>\n",
       "<table border=\"1\" class=\"dataframe\">\n",
       "  <thead>\n",
       "    <tr style=\"text-align: right;\">\n",
       "      <th></th>\n",
       "      <th>initial_list_status</th>\n",
       "      <th>open_acc</th>\n",
       "      <th>total_acc</th>\n",
       "      <th>inq_last_6mths</th>\n",
       "      <th>collections_12_mths_ex_med</th>\n",
       "      <th>tot_coll_amt</th>\n",
       "      <th>revol_bal</th>\n",
       "      <th>pub_rec</th>\n",
       "      <th>pub_rec_bankruptcies</th>\n",
       "      <th>acc_now_delinq</th>\n",
       "      <th>all_util</th>\n",
       "      <th>revol_util</th>\n",
       "      <th>delinq_2yrs</th>\n",
       "      <th>initial_list_status</th>\n",
       "      <th>tot_cur_bal</th>\n",
       "      <th>avg_cur_bal</th>\n",
       "      <th>int_rate</th>\n",
       "      <th>dti</th>\n",
       "      <th>home_ownership</th>\n",
       "      <th>annual_inc</th>\n",
       "      <th>purpose</th>\n",
       "      <th>emp_length</th>\n",
       "      <th>term</th>\n",
       "      <th>addr_state</th>\n",
       "      <th>installment</th>\n",
       "      <th>mort_acc</th>\n",
       "      <th>application_type</th>\n",
       "      <th>verification_status</th>\n",
       "      <th>fico_range_low</th>\n",
       "      <th>fico_range_high</th>\n",
       "      <th>loan_amnt</th>\n",
       "      <th>grade</th>\n",
       "      <th>length_cr_line</th>\n",
       "    </tr>\n",
       "  </thead>\n",
       "  <tbody>\n",
       "    <tr>\n",
       "      <th>421101</th>\n",
       "      <td>w</td>\n",
       "      <td>7.0</td>\n",
       "      <td>30.0</td>\n",
       "      <td>0.0</td>\n",
       "      <td>0.0</td>\n",
       "      <td>0.0</td>\n",
       "      <td>141.0</td>\n",
       "      <td>0.0</td>\n",
       "      <td>0.0</td>\n",
       "      <td>0.0</td>\n",
       "      <td>1.0</td>\n",
       "      <td>0.5</td>\n",
       "      <td>0.0</td>\n",
       "      <td>w</td>\n",
       "      <td>150592.0</td>\n",
       "      <td>25099.0</td>\n",
       "      <td>7.34</td>\n",
       "      <td>0.58</td>\n",
       "      <td>RENT</td>\n",
       "      <td>52000.0</td>\n",
       "      <td>major_purchase</td>\n",
       "      <td>9 years</td>\n",
       "      <td>36 months</td>\n",
       "      <td>WA</td>\n",
       "      <td>93.10</td>\n",
       "      <td>4.0</td>\n",
       "      <td>Individual</td>\n",
       "      <td>Source Verified</td>\n",
       "      <td>760.0</td>\n",
       "      <td>764.0</td>\n",
       "      <td>3000.0</td>\n",
       "      <td>A</td>\n",
       "      <td>20.0</td>\n",
       "    </tr>\n",
       "    <tr>\n",
       "      <th>421113</th>\n",
       "      <td>w</td>\n",
       "      <td>14.0</td>\n",
       "      <td>24.0</td>\n",
       "      <td>0.0</td>\n",
       "      <td>0.0</td>\n",
       "      <td>0.0</td>\n",
       "      <td>11449.0</td>\n",
       "      <td>1.0</td>\n",
       "      <td>1.0</td>\n",
       "      <td>0.0</td>\n",
       "      <td>47.0</td>\n",
       "      <td>33.9</td>\n",
       "      <td>0.0</td>\n",
       "      <td>w</td>\n",
       "      <td>28880.0</td>\n",
       "      <td>2222.0</td>\n",
       "      <td>11.98</td>\n",
       "      <td>14.18</td>\n",
       "      <td>OWN</td>\n",
       "      <td>55000.0</td>\n",
       "      <td>other</td>\n",
       "      <td>10+ years</td>\n",
       "      <td>36 months</td>\n",
       "      <td>GA</td>\n",
       "      <td>166.03</td>\n",
       "      <td>0.0</td>\n",
       "      <td>Individual</td>\n",
       "      <td>Not Verified</td>\n",
       "      <td>675.0</td>\n",
       "      <td>679.0</td>\n",
       "      <td>5000.0</td>\n",
       "      <td>B</td>\n",
       "      <td>17.0</td>\n",
       "    </tr>\n",
       "    <tr>\n",
       "      <th>421120</th>\n",
       "      <td>w</td>\n",
       "      <td>13.0</td>\n",
       "      <td>29.0</td>\n",
       "      <td>0.0</td>\n",
       "      <td>0.0</td>\n",
       "      <td>0.0</td>\n",
       "      <td>5004.0</td>\n",
       "      <td>0.0</td>\n",
       "      <td>0.0</td>\n",
       "      <td>0.0</td>\n",
       "      <td>90.0</td>\n",
       "      <td>36.0</td>\n",
       "      <td>0.0</td>\n",
       "      <td>w</td>\n",
       "      <td>131726.0</td>\n",
       "      <td>10977.0</td>\n",
       "      <td>11.98</td>\n",
       "      <td>20.25</td>\n",
       "      <td>MORTGAGE</td>\n",
       "      <td>40000.0</td>\n",
       "      <td>home_improvement</td>\n",
       "      <td>&lt; 1 year</td>\n",
       "      <td>36 months</td>\n",
       "      <td>TX</td>\n",
       "      <td>232.44</td>\n",
       "      <td>0.0</td>\n",
       "      <td>Individual</td>\n",
       "      <td>Verified</td>\n",
       "      <td>695.0</td>\n",
       "      <td>699.0</td>\n",
       "      <td>7000.0</td>\n",
       "      <td>B</td>\n",
       "      <td>11.0</td>\n",
       "    </tr>\n",
       "    <tr>\n",
       "      <th>421121</th>\n",
       "      <td>w</td>\n",
       "      <td>10.0</td>\n",
       "      <td>26.0</td>\n",
       "      <td>0.0</td>\n",
       "      <td>0.0</td>\n",
       "      <td>0.0</td>\n",
       "      <td>17506.0</td>\n",
       "      <td>0.0</td>\n",
       "      <td>0.0</td>\n",
       "      <td>0.0</td>\n",
       "      <td>69.0</td>\n",
       "      <td>70.9</td>\n",
       "      <td>0.0</td>\n",
       "      <td>w</td>\n",
       "      <td>60594.0</td>\n",
       "      <td>6733.0</td>\n",
       "      <td>17.47</td>\n",
       "      <td>26.63</td>\n",
       "      <td>RENT</td>\n",
       "      <td>55000.0</td>\n",
       "      <td>credit_card</td>\n",
       "      <td>&lt; 1 year</td>\n",
       "      <td>60 months</td>\n",
       "      <td>NY</td>\n",
       "      <td>509.66</td>\n",
       "      <td>0.0</td>\n",
       "      <td>Individual</td>\n",
       "      <td>Verified</td>\n",
       "      <td>705.0</td>\n",
       "      <td>709.0</td>\n",
       "      <td>20300.0</td>\n",
       "      <td>D</td>\n",
       "      <td>11.0</td>\n",
       "    </tr>\n",
       "    <tr>\n",
       "      <th>421135</th>\n",
       "      <td>w</td>\n",
       "      <td>11.0</td>\n",
       "      <td>26.0</td>\n",
       "      <td>1.0</td>\n",
       "      <td>0.0</td>\n",
       "      <td>0.0</td>\n",
       "      <td>29222.0</td>\n",
       "      <td>0.0</td>\n",
       "      <td>0.0</td>\n",
       "      <td>0.0</td>\n",
       "      <td>69.0</td>\n",
       "      <td>53.2</td>\n",
       "      <td>0.0</td>\n",
       "      <td>w</td>\n",
       "      <td>157566.0</td>\n",
       "      <td>14324.0</td>\n",
       "      <td>21.85</td>\n",
       "      <td>27.58</td>\n",
       "      <td>OWN</td>\n",
       "      <td>57000.0</td>\n",
       "      <td>debt_consolidation</td>\n",
       "      <td>10+ years</td>\n",
       "      <td>36 months</td>\n",
       "      <td>FL</td>\n",
       "      <td>1143.39</td>\n",
       "      <td>2.0</td>\n",
       "      <td>Individual</td>\n",
       "      <td>Verified</td>\n",
       "      <td>680.0</td>\n",
       "      <td>684.0</td>\n",
       "      <td>30000.0</td>\n",
       "      <td>D</td>\n",
       "      <td>18.0</td>\n",
       "    </tr>\n",
       "  </tbody>\n",
       "</table>\n",
       "</div>"
      ],
      "text/plain": [
       "       initial_list_status  open_acc  total_acc  inq_last_6mths  \\\n",
       "421101                   w       7.0       30.0             0.0   \n",
       "421113                   w      14.0       24.0             0.0   \n",
       "421120                   w      13.0       29.0             0.0   \n",
       "421121                   w      10.0       26.0             0.0   \n",
       "421135                   w      11.0       26.0             1.0   \n",
       "\n",
       "        collections_12_mths_ex_med  tot_coll_amt  revol_bal  pub_rec  \\\n",
       "421101                         0.0           0.0      141.0      0.0   \n",
       "421113                         0.0           0.0    11449.0      1.0   \n",
       "421120                         0.0           0.0     5004.0      0.0   \n",
       "421121                         0.0           0.0    17506.0      0.0   \n",
       "421135                         0.0           0.0    29222.0      0.0   \n",
       "\n",
       "        pub_rec_bankruptcies  acc_now_delinq  all_util  revol_util  \\\n",
       "421101                   0.0             0.0       1.0         0.5   \n",
       "421113                   1.0             0.0      47.0        33.9   \n",
       "421120                   0.0             0.0      90.0        36.0   \n",
       "421121                   0.0             0.0      69.0        70.9   \n",
       "421135                   0.0             0.0      69.0        53.2   \n",
       "\n",
       "        delinq_2yrs initial_list_status  tot_cur_bal  avg_cur_bal  int_rate  \\\n",
       "421101          0.0                   w     150592.0      25099.0      7.34   \n",
       "421113          0.0                   w      28880.0       2222.0     11.98   \n",
       "421120          0.0                   w     131726.0      10977.0     11.98   \n",
       "421121          0.0                   w      60594.0       6733.0     17.47   \n",
       "421135          0.0                   w     157566.0      14324.0     21.85   \n",
       "\n",
       "          dti home_ownership  annual_inc             purpose emp_length  \\\n",
       "421101   0.58           RENT     52000.0      major_purchase    9 years   \n",
       "421113  14.18            OWN     55000.0               other  10+ years   \n",
       "421120  20.25       MORTGAGE     40000.0    home_improvement   < 1 year   \n",
       "421121  26.63           RENT     55000.0         credit_card   < 1 year   \n",
       "421135  27.58            OWN     57000.0  debt_consolidation  10+ years   \n",
       "\n",
       "              term addr_state  installment  mort_acc application_type  \\\n",
       "421101   36 months         WA        93.10       4.0       Individual   \n",
       "421113   36 months         GA       166.03       0.0       Individual   \n",
       "421120   36 months         TX       232.44       0.0       Individual   \n",
       "421121   60 months         NY       509.66       0.0       Individual   \n",
       "421135   36 months         FL      1143.39       2.0       Individual   \n",
       "\n",
       "       verification_status  fico_range_low  fico_range_high  loan_amnt grade  \\\n",
       "421101     Source Verified           760.0            764.0     3000.0     A   \n",
       "421113        Not Verified           675.0            679.0     5000.0     B   \n",
       "421120            Verified           695.0            699.0     7000.0     B   \n",
       "421121            Verified           705.0            709.0    20300.0     D   \n",
       "421135            Verified           680.0            684.0    30000.0     D   \n",
       "\n",
       "        length_cr_line  \n",
       "421101            20.0  \n",
       "421113            17.0  \n",
       "421120            11.0  \n",
       "421121            11.0  \n",
       "421135            18.0  "
      ]
     },
     "execution_count": 8,
     "metadata": {},
     "output_type": "execute_result"
    }
   ],
   "source": [
    "print(X.shape)\n",
    "X.head()"
   ]
  },
  {
   "cell_type": "markdown",
   "metadata": {},
   "source": [
    "## Train Test split"
   ]
  },
  {
   "cell_type": "code",
   "execution_count": 9,
   "metadata": {},
   "outputs": [],
   "source": [
    "X_train, X_test, y_train, y_test = train_test_split(X, y, \n",
    "                                                    stratify = y, \n",
    "                                                    test_size = 0.3, \n",
    "                                                    random_state = 0)"
   ]
  },
  {
   "cell_type": "markdown",
   "metadata": {},
   "source": [
    "## Dummify dataset"
   ]
  },
  {
   "cell_type": "code",
   "execution_count": 10,
   "metadata": {},
   "outputs": [],
   "source": [
    "X_train_dum, X_test_dum = pm.Dummify(X_train, X_test)"
   ]
  },
  {
   "cell_type": "markdown",
   "metadata": {},
   "source": [
    "## Scale the values"
   ]
  },
  {
   "cell_type": "code",
   "execution_count": 11,
   "metadata": {},
   "outputs": [],
   "source": [
    "scaler = MinMaxScaler()\n",
    "X_train_stan = pd.DataFrame(scaler.fit_transform(X_train_dum), columns=X_train_dum.columns)\n",
    "X_test_stan = pd.DataFrame(scaler.transform(X_test_dum), columns=X_train_dum.columns)"
   ]
  },
  {
   "cell_type": "markdown",
   "metadata": {},
   "source": [
    "## Modeling"
   ]
  },
  {
   "cell_type": "code",
   "execution_count": 12,
   "metadata": {},
   "outputs": [],
   "source": [
    "logistic = LogisticRegression(random_state = 0, solver=\"liblinear\", penalty = 'l1', class_weight = 'balanced')"
   ]
  },
  {
   "cell_type": "code",
   "execution_count": null,
   "metadata": {},
   "outputs": [],
   "source": [
    "logistic.fit(X_train_stan,y_train)"
   ]
  },
  {
   "cell_type": "code",
   "execution_count": null,
   "metadata": {},
   "outputs": [],
   "source": [
    "logisti"
   ]
  }
 ],
 "metadata": {
  "kernelspec": {
   "display_name": "Python 3",
   "language": "python",
   "name": "python3"
  },
  "language_info": {
   "codemirror_mode": {
    "name": "ipython",
    "version": 3
   },
   "file_extension": ".py",
   "mimetype": "text/x-python",
   "name": "python",
   "nbconvert_exporter": "python",
   "pygments_lexer": "ipython3",
   "version": "3.7.6"
  },
  "toc": {
   "base_numbering": 1,
   "nav_menu": {},
   "number_sections": true,
   "sideBar": true,
   "skip_h1_title": false,
   "title_cell": "Table of Contents",
   "title_sidebar": "Contents",
   "toc_cell": true,
   "toc_position": {},
   "toc_section_display": true,
   "toc_window_display": false
  },
  "varInspector": {
   "cols": {
    "lenName": 16,
    "lenType": 16,
    "lenVar": 40
   },
   "kernels_config": {
    "python": {
     "delete_cmd_postfix": "",
     "delete_cmd_prefix": "del ",
     "library": "var_list.py",
     "varRefreshCmd": "print(var_dic_list())"
    },
    "r": {
     "delete_cmd_postfix": ") ",
     "delete_cmd_prefix": "rm(",
     "library": "var_list.r",
     "varRefreshCmd": "cat(var_dic_list()) "
    }
   },
   "types_to_exclude": [
    "module",
    "function",
    "builtin_function_or_method",
    "instance",
    "_Feature"
   ],
   "window_display": false
  }
 },
 "nbformat": 4,
 "nbformat_minor": 4
}
