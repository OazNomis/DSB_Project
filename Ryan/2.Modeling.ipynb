{
 "cells": [
  {
   "cell_type": "markdown",
   "metadata": {
    "toc": true
   },
   "source": [
    "<h1>Table of Contents<span class=\"tocSkip\"></span></h1>\n",
    "<div class=\"toc\"><ul class=\"toc-item\"><li><span><a href=\"#Set-Up-Environment\" data-toc-modified-id=\"Set-Up-Environment-1\"><span class=\"toc-item-num\">1&nbsp;&nbsp;</span>Set Up Environment</a></span></li><li><span><a href=\"#Load-Data\" data-toc-modified-id=\"Load-Data-2\"><span class=\"toc-item-num\">2&nbsp;&nbsp;</span>Load Data</a></span></li><li><span><a href=\"#Train-Test-split\" data-toc-modified-id=\"Train-Test-split-3\"><span class=\"toc-item-num\">3&nbsp;&nbsp;</span>Train Test split</a></span></li><li><span><a href=\"#Dummify-dataset\" data-toc-modified-id=\"Dummify-dataset-4\"><span class=\"toc-item-num\">4&nbsp;&nbsp;</span>Dummify dataset</a></span></li><li><span><a href=\"#Scale-the-values\" data-toc-modified-id=\"Scale-the-values-5\"><span class=\"toc-item-num\">5&nbsp;&nbsp;</span>Scale the values</a></span></li><li><span><a href=\"#Modeling\" data-toc-modified-id=\"Modeling-6\"><span class=\"toc-item-num\">6&nbsp;&nbsp;</span>Modeling</a></span></li></ul></div>"
   ]
  },
  {
   "cell_type": "markdown",
   "metadata": {},
   "source": [
    "## Set Up Environment"
   ]
  },
  {
   "cell_type": "code",
   "execution_count": 1,
   "metadata": {},
   "outputs": [],
   "source": [
    "import sys\n",
    "sys.path.insert(0,'..')\n",
    "import preprocessing_module as pm\n",
    "\n",
    "import pandas as pd\n",
    "import numpy as np\n",
    "import matplotlib.pyplot as plt\n",
    "import seaborn as sns\n",
    "import warnings\n",
    "import joblib\n",
    "\n",
    "%matplotlib inline\n",
    "plt.rcParams['figure.figsize'] = (9, 6)\n",
    "sns.set(style = \"whitegrid\")\n",
    "pd.set_option('display.max_columns', 500)\n",
    "pd.set_option('display.max_rows', 500)\n",
    "warnings.filterwarnings(action=\"ignore\")"
   ]
  },
  {
   "cell_type": "code",
   "execution_count": 2,
   "metadata": {},
   "outputs": [],
   "source": [
    "from sklearn.preprocessing import StandardScaler, MinMaxScaler\n",
    "from sklearn.linear_model import LogisticRegression\n",
    "from sklearn.ensemble import RandomForestClassifier, GradientBoostingClassifier\n",
    "from sklearn.model_selection import train_test_split, GridSearchCV, RandomizedSearchCV\n",
    "from sklearn.svm import SVC\n",
    "from sklearn.metrics import confusion_matrix, precision_score, recall_score, roc_curve, roc_auc_score\n",
    "# from collections import Counter\n",
    "# from sklearn.utils.class_weight import compute_sample_weight"
   ]
  },
  {
   "cell_type": "markdown",
   "metadata": {},
   "source": [
    "## Load Data"
   ]
  },
  {
   "cell_type": "code",
   "execution_count": 3,
   "metadata": {},
   "outputs": [],
   "source": [
    "accepted = pd.read_csv('../data/accepted_2007_to_2018Q4.csv')\n",
    "accepted_clean = pm.datacleaning(accepted)"
   ]
  },
  {
   "cell_type": "code",
   "execution_count": 4,
   "metadata": {},
   "outputs": [],
   "source": [
    "y = accepted_clean.loan_status\n",
    "X = accepted_clean.drop('loan_status',1)"
   ]
  },
  {
   "cell_type": "code",
   "execution_count": 5,
   "metadata": {},
   "outputs": [
    {
     "name": "stdout",
     "output_type": "stream",
     "text": [
      "(482335, 32)\n"
     ]
    },
    {
     "data": {
      "text/html": [
       "<div>\n",
       "<style scoped>\n",
       "    .dataframe tbody tr th:only-of-type {\n",
       "        vertical-align: middle;\n",
       "    }\n",
       "\n",
       "    .dataframe tbody tr th {\n",
       "        vertical-align: top;\n",
       "    }\n",
       "\n",
       "    .dataframe thead th {\n",
       "        text-align: right;\n",
       "    }\n",
       "</style>\n",
       "<table border=\"1\" class=\"dataframe\">\n",
       "  <thead>\n",
       "    <tr style=\"text-align: right;\">\n",
       "      <th></th>\n",
       "      <th>open_acc</th>\n",
       "      <th>total_acc</th>\n",
       "      <th>inq_last_6mths</th>\n",
       "      <th>collections_12_mths_ex_med</th>\n",
       "      <th>tot_coll_amt</th>\n",
       "      <th>revol_bal</th>\n",
       "      <th>pub_rec</th>\n",
       "      <th>pub_rec_bankruptcies</th>\n",
       "      <th>acc_now_delinq</th>\n",
       "      <th>all_util</th>\n",
       "      <th>revol_util</th>\n",
       "      <th>delinq_2yrs</th>\n",
       "      <th>initial_list_status</th>\n",
       "      <th>tot_cur_bal</th>\n",
       "      <th>avg_cur_bal</th>\n",
       "      <th>int_rate</th>\n",
       "      <th>dti</th>\n",
       "      <th>home_ownership</th>\n",
       "      <th>annual_inc</th>\n",
       "      <th>purpose</th>\n",
       "      <th>emp_length</th>\n",
       "      <th>term</th>\n",
       "      <th>addr_state</th>\n",
       "      <th>installment</th>\n",
       "      <th>mort_acc</th>\n",
       "      <th>application_type</th>\n",
       "      <th>verification_status</th>\n",
       "      <th>fico_range_low</th>\n",
       "      <th>fico_range_high</th>\n",
       "      <th>loan_amnt</th>\n",
       "      <th>grade</th>\n",
       "      <th>length_cr_line</th>\n",
       "    </tr>\n",
       "  </thead>\n",
       "  <tbody>\n",
       "    <tr>\n",
       "      <th>421101</th>\n",
       "      <td>7.0</td>\n",
       "      <td>30.0</td>\n",
       "      <td>0.0</td>\n",
       "      <td>0.0</td>\n",
       "      <td>0.0</td>\n",
       "      <td>141.0</td>\n",
       "      <td>0.0</td>\n",
       "      <td>0.0</td>\n",
       "      <td>0.0</td>\n",
       "      <td>1.0</td>\n",
       "      <td>0.5</td>\n",
       "      <td>0.0</td>\n",
       "      <td>w</td>\n",
       "      <td>150592.0</td>\n",
       "      <td>25099.0</td>\n",
       "      <td>7.34</td>\n",
       "      <td>0.58</td>\n",
       "      <td>RENT</td>\n",
       "      <td>52000.0</td>\n",
       "      <td>major_purchase</td>\n",
       "      <td>9 years</td>\n",
       "      <td>36 months</td>\n",
       "      <td>WA</td>\n",
       "      <td>93.10</td>\n",
       "      <td>4.0</td>\n",
       "      <td>Individual</td>\n",
       "      <td>Source Verified</td>\n",
       "      <td>760.0</td>\n",
       "      <td>764.0</td>\n",
       "      <td>3000.0</td>\n",
       "      <td>A</td>\n",
       "      <td>20.0</td>\n",
       "    </tr>\n",
       "    <tr>\n",
       "      <th>421113</th>\n",
       "      <td>14.0</td>\n",
       "      <td>24.0</td>\n",
       "      <td>0.0</td>\n",
       "      <td>0.0</td>\n",
       "      <td>0.0</td>\n",
       "      <td>11449.0</td>\n",
       "      <td>1.0</td>\n",
       "      <td>1.0</td>\n",
       "      <td>0.0</td>\n",
       "      <td>47.0</td>\n",
       "      <td>33.9</td>\n",
       "      <td>0.0</td>\n",
       "      <td>w</td>\n",
       "      <td>28880.0</td>\n",
       "      <td>2222.0</td>\n",
       "      <td>11.98</td>\n",
       "      <td>14.18</td>\n",
       "      <td>OWN</td>\n",
       "      <td>55000.0</td>\n",
       "      <td>other</td>\n",
       "      <td>10+ years</td>\n",
       "      <td>36 months</td>\n",
       "      <td>GA</td>\n",
       "      <td>166.03</td>\n",
       "      <td>0.0</td>\n",
       "      <td>Individual</td>\n",
       "      <td>Not Verified</td>\n",
       "      <td>675.0</td>\n",
       "      <td>679.0</td>\n",
       "      <td>5000.0</td>\n",
       "      <td>B</td>\n",
       "      <td>17.0</td>\n",
       "    </tr>\n",
       "    <tr>\n",
       "      <th>421120</th>\n",
       "      <td>13.0</td>\n",
       "      <td>29.0</td>\n",
       "      <td>0.0</td>\n",
       "      <td>0.0</td>\n",
       "      <td>0.0</td>\n",
       "      <td>5004.0</td>\n",
       "      <td>0.0</td>\n",
       "      <td>0.0</td>\n",
       "      <td>0.0</td>\n",
       "      <td>90.0</td>\n",
       "      <td>36.0</td>\n",
       "      <td>0.0</td>\n",
       "      <td>w</td>\n",
       "      <td>131726.0</td>\n",
       "      <td>10977.0</td>\n",
       "      <td>11.98</td>\n",
       "      <td>20.25</td>\n",
       "      <td>MORTGAGE</td>\n",
       "      <td>40000.0</td>\n",
       "      <td>home_improvement</td>\n",
       "      <td>&lt; 1 year</td>\n",
       "      <td>36 months</td>\n",
       "      <td>TX</td>\n",
       "      <td>232.44</td>\n",
       "      <td>0.0</td>\n",
       "      <td>Individual</td>\n",
       "      <td>Verified</td>\n",
       "      <td>695.0</td>\n",
       "      <td>699.0</td>\n",
       "      <td>7000.0</td>\n",
       "      <td>B</td>\n",
       "      <td>11.0</td>\n",
       "    </tr>\n",
       "    <tr>\n",
       "      <th>421135</th>\n",
       "      <td>11.0</td>\n",
       "      <td>26.0</td>\n",
       "      <td>1.0</td>\n",
       "      <td>0.0</td>\n",
       "      <td>0.0</td>\n",
       "      <td>29222.0</td>\n",
       "      <td>0.0</td>\n",
       "      <td>0.0</td>\n",
       "      <td>0.0</td>\n",
       "      <td>69.0</td>\n",
       "      <td>53.2</td>\n",
       "      <td>0.0</td>\n",
       "      <td>w</td>\n",
       "      <td>157566.0</td>\n",
       "      <td>14324.0</td>\n",
       "      <td>21.85</td>\n",
       "      <td>27.58</td>\n",
       "      <td>OWN</td>\n",
       "      <td>57000.0</td>\n",
       "      <td>debt_consolidation</td>\n",
       "      <td>10+ years</td>\n",
       "      <td>36 months</td>\n",
       "      <td>FL</td>\n",
       "      <td>1143.39</td>\n",
       "      <td>2.0</td>\n",
       "      <td>Individual</td>\n",
       "      <td>Verified</td>\n",
       "      <td>680.0</td>\n",
       "      <td>684.0</td>\n",
       "      <td>30000.0</td>\n",
       "      <td>D</td>\n",
       "      <td>18.0</td>\n",
       "    </tr>\n",
       "    <tr>\n",
       "      <th>421137</th>\n",
       "      <td>15.0</td>\n",
       "      <td>27.0</td>\n",
       "      <td>0.0</td>\n",
       "      <td>0.0</td>\n",
       "      <td>0.0</td>\n",
       "      <td>14591.0</td>\n",
       "      <td>0.0</td>\n",
       "      <td>0.0</td>\n",
       "      <td>0.0</td>\n",
       "      <td>34.0</td>\n",
       "      <td>34.2</td>\n",
       "      <td>1.0</td>\n",
       "      <td>w</td>\n",
       "      <td>128270.0</td>\n",
       "      <td>8551.0</td>\n",
       "      <td>20.39</td>\n",
       "      <td>15.76</td>\n",
       "      <td>OWN</td>\n",
       "      <td>85000.0</td>\n",
       "      <td>home_improvement</td>\n",
       "      <td>10+ years</td>\n",
       "      <td>60 months</td>\n",
       "      <td>NY</td>\n",
       "      <td>560.94</td>\n",
       "      <td>3.0</td>\n",
       "      <td>Individual</td>\n",
       "      <td>Source Verified</td>\n",
       "      <td>665.0</td>\n",
       "      <td>669.0</td>\n",
       "      <td>21000.0</td>\n",
       "      <td>D</td>\n",
       "      <td>10.0</td>\n",
       "    </tr>\n",
       "  </tbody>\n",
       "</table>\n",
       "</div>"
      ],
      "text/plain": [
       "        open_acc  total_acc  inq_last_6mths  collections_12_mths_ex_med  \\\n",
       "421101       7.0       30.0             0.0                         0.0   \n",
       "421113      14.0       24.0             0.0                         0.0   \n",
       "421120      13.0       29.0             0.0                         0.0   \n",
       "421135      11.0       26.0             1.0                         0.0   \n",
       "421137      15.0       27.0             0.0                         0.0   \n",
       "\n",
       "        tot_coll_amt  revol_bal  pub_rec  pub_rec_bankruptcies  \\\n",
       "421101           0.0      141.0      0.0                   0.0   \n",
       "421113           0.0    11449.0      1.0                   1.0   \n",
       "421120           0.0     5004.0      0.0                   0.0   \n",
       "421135           0.0    29222.0      0.0                   0.0   \n",
       "421137           0.0    14591.0      0.0                   0.0   \n",
       "\n",
       "        acc_now_delinq  all_util  revol_util  delinq_2yrs initial_list_status  \\\n",
       "421101             0.0       1.0         0.5          0.0                   w   \n",
       "421113             0.0      47.0        33.9          0.0                   w   \n",
       "421120             0.0      90.0        36.0          0.0                   w   \n",
       "421135             0.0      69.0        53.2          0.0                   w   \n",
       "421137             0.0      34.0        34.2          1.0                   w   \n",
       "\n",
       "        tot_cur_bal  avg_cur_bal  int_rate    dti home_ownership  annual_inc  \\\n",
       "421101     150592.0      25099.0      7.34   0.58           RENT     52000.0   \n",
       "421113      28880.0       2222.0     11.98  14.18            OWN     55000.0   \n",
       "421120     131726.0      10977.0     11.98  20.25       MORTGAGE     40000.0   \n",
       "421135     157566.0      14324.0     21.85  27.58            OWN     57000.0   \n",
       "421137     128270.0       8551.0     20.39  15.76            OWN     85000.0   \n",
       "\n",
       "                   purpose emp_length        term addr_state  installment  \\\n",
       "421101      major_purchase    9 years   36 months         WA        93.10   \n",
       "421113               other  10+ years   36 months         GA       166.03   \n",
       "421120    home_improvement   < 1 year   36 months         TX       232.44   \n",
       "421135  debt_consolidation  10+ years   36 months         FL      1143.39   \n",
       "421137    home_improvement  10+ years   60 months         NY       560.94   \n",
       "\n",
       "        mort_acc application_type verification_status  fico_range_low  \\\n",
       "421101       4.0       Individual     Source Verified           760.0   \n",
       "421113       0.0       Individual        Not Verified           675.0   \n",
       "421120       0.0       Individual            Verified           695.0   \n",
       "421135       2.0       Individual            Verified           680.0   \n",
       "421137       3.0       Individual     Source Verified           665.0   \n",
       "\n",
       "        fico_range_high  loan_amnt grade  length_cr_line  \n",
       "421101            764.0     3000.0     A            20.0  \n",
       "421113            679.0     5000.0     B            17.0  \n",
       "421120            699.0     7000.0     B            11.0  \n",
       "421135            684.0    30000.0     D            18.0  \n",
       "421137            669.0    21000.0     D            10.0  "
      ]
     },
     "execution_count": 5,
     "metadata": {},
     "output_type": "execute_result"
    }
   ],
   "source": [
    "print(X.shape)\n",
    "X.head()"
   ]
  },
  {
   "cell_type": "markdown",
   "metadata": {},
   "source": [
    "## Train Test split"
   ]
  },
  {
   "cell_type": "code",
   "execution_count": 6,
   "metadata": {},
   "outputs": [],
   "source": [
    "X_train, X_test, y_train, y_test = train_test_split(X, y, \n",
    "                                                    stratify = y, \n",
    "                                                    test_size = 0.3, \n",
    "                                                    random_state = 0)"
   ]
  },
  {
   "cell_type": "markdown",
   "metadata": {},
   "source": [
    "## Dummify dataset"
   ]
  },
  {
   "cell_type": "code",
   "execution_count": 7,
   "metadata": {},
   "outputs": [],
   "source": [
    "X_train_dum, X_test_dum = pm.Dummify(X_train, X_test)"
   ]
  },
  {
   "cell_type": "markdown",
   "metadata": {},
   "source": [
    "## Scale the values"
   ]
  },
  {
   "cell_type": "code",
   "execution_count": 8,
   "metadata": {},
   "outputs": [],
   "source": [
    "scaler = MinMaxScaler()\n",
    "X_train_stan = pd.DataFrame(scaler.fit_transform(X_train_dum), columns=X_train_dum.columns)\n",
    "X_test_stan = pd.DataFrame(scaler.transform(X_test_dum), columns=X_train_dum.columns)"
   ]
  },
  {
   "cell_type": "markdown",
   "metadata": {},
   "source": [
    "## Modeling"
   ]
  },
  {
   "cell_type": "code",
   "execution_count": 50,
   "metadata": {},
   "outputs": [],
   "source": [
    "logistic = LogisticRegression(random_state = 0, solver=\"liblinear\", penalty = 'l1', class_weight = 'balanced')"
   ]
  },
  {
   "cell_type": "code",
   "execution_count": null,
   "metadata": {},
   "outputs": [],
   "source": [
    "param_grid = {'C': np.logspace(-2,1,50)}\n",
    "logisticcv = GridSearchCV(logistic, param_grid, scoring = 'precision', cv = 3)\n",
    "para_search = logisticcv.fit(X_train_dum, y_train)\n",
    "best_logistic = para_search.best_estimator_\n",
    "print('Best estimator:', best_logistic)"
   ]
  },
  {
   "cell_type": "code",
   "execution_count": null,
   "metadata": {},
   "outputs": [],
   "source": [
    "precision_score(y_train, logisticcv.predict(X_train_dum))"
   ]
  },
  {
   "cell_type": "code",
   "execution_count": null,
   "metadata": {},
   "outputs": [],
   "source": [
    "precision_score(y_test, logisticcv.predict(X_test_dum))"
   ]
  },
  {
   "cell_type": "code",
   "execution_count": null,
   "metadata": {},
   "outputs": [],
   "source": [
    "confusion_matrix(y_test, logisticcv.predict(X_test_dum))"
   ]
  },
  {
   "cell_type": "code",
   "execution_count": null,
   "metadata": {},
   "outputs": [],
   "source": [
    "logistic_coef = pd.DataFrame(best_logistic.coef_.T, index = X_train_dum.columns).rename(columns = {0:\"Coef.\"})\n",
    "logistic_coef = logistic_coef.reindex(logistic_coef[\"Coef.\"].abs().sort_values(ascending = False).index)\n",
    "logistic_coef = logistic_coef.reset_index()\n",
    "plt.figure(figsize = (5,5))\n",
    "sns.barplot(data = logistic_coef[logistic_coef['Coef.'] != 0], x = 'Coef.', y = 'index');\n",
    "plt.title('Coefficients of Penalized Logistic Regression Model');\n",
    "plt.ylabel('');\n"
   ]
  },
  {
   "cell_type": "code",
   "execution_count": null,
   "metadata": {},
   "outputs": [],
   "source": []
  },
  {
   "cell_type": "code",
   "execution_count": null,
   "metadata": {},
   "outputs": [],
   "source": []
  },
  {
   "cell_type": "code",
   "execution_count": 22,
   "metadata": {},
   "outputs": [],
   "source": [
    "randomForest = RandomForestClassifier(random_state = 0, \n",
    "                                      max_features = 'auto', \n",
    "                                      max_depth = 3, \n",
    "                                      class_weight = 'balanced_subsample')\n",
    "grid_para_forest = {'n_estimators': range(480,600,10),\n",
    "                    'min_samples_split': range(5,14),\n",
    "                    'min_samples_leaf' : range(2,9)}"
   ]
  },
  {
   "cell_type": "code",
   "execution_count": 23,
   "metadata": {},
   "outputs": [
    {
     "name": "stdout",
     "output_type": "stream",
     "text": [
      "Fitting 3 folds for each of 10 candidates, totalling 30 fits\n"
     ]
    },
    {
     "name": "stderr",
     "output_type": "stream",
     "text": [
      "[Parallel(n_jobs=5)]: Using backend LokyBackend with 5 concurrent workers.\n",
      "[Parallel(n_jobs=5)]: Done  30 out of  30 | elapsed:  9.6min finished\n"
     ]
    },
    {
     "name": "stdout",
     "output_type": "stream",
     "text": [
      "Best parameters: {'n_estimators': 540, 'min_samples_split': 12, 'min_samples_leaf': 6}\n"
     ]
    }
   ],
   "source": [
    "grid_search_forest = RandomizedSearchCV(randomForest,\n",
    "                                        grid_para_forest,\n",
    "                                        cv=3, \n",
    "                                        n_jobs = 5, \n",
    "                                        verbose = 1,\n",
    "                                        scoring = 'precision')\n",
    "# Fit Random Forest \n",
    "para_search = grid_search_forest.fit(X_train_dum, y_train)\n",
    "\n",
    "# Save the best estimator\n",
    "best_rf = para_search.best_estimator_\n",
    "print('Best parameters:', para_search.best_params_)"
   ]
  },
  {
   "cell_type": "code",
   "execution_count": 24,
   "metadata": {},
   "outputs": [
    {
     "data": {
      "text/plain": [
       "0.8729992739409833"
      ]
     },
     "execution_count": 24,
     "metadata": {},
     "output_type": "execute_result"
    }
   ],
   "source": [
    "precision_score(y_train, best_rf.predict(X_train_dum))"
   ]
  },
  {
   "cell_type": "code",
   "execution_count": 25,
   "metadata": {},
   "outputs": [
    {
     "data": {
      "text/plain": [
       "0.8728872482712413"
      ]
     },
     "execution_count": 25,
     "metadata": {},
     "output_type": "execute_result"
    }
   ],
   "source": [
    "precision_score(y_test, best_rf.predict(X_test_dum))"
   ]
  },
  {
   "cell_type": "code",
   "execution_count": 26,
   "metadata": {},
   "outputs": [
    {
     "data": {
      "text/plain": [
       "array([[21478, 10055],\n",
       "       [44120, 69048]])"
      ]
     },
     "execution_count": 26,
     "metadata": {},
     "output_type": "execute_result"
    }
   ],
   "source": [
    "confusion_matrix(y_test, best_rf.predict(X_test_dum))"
   ]
  },
  {
   "cell_type": "code",
   "execution_count": 33,
   "metadata": {},
   "outputs": [
    {
     "data": {
      "image/png": "[encoded data removed]",
      "text/plain": [
       "<Figure size 288x432 with 1 Axes>"
      ]
     },
     "metadata": {},
     "output_type": "display_data"
    }
   ],
   "source": [
    "sorted_importance = sorted(zip(X_train_dum.columns, best_rf.feature_importances_), key=lambda t:t[1], reverse=True)\n",
    "a, b = zip(*sorted_importance)\n",
    "plt.figure(figsize = (4,6))\n",
    "df = pd.DataFrame({'feature_name':a, 'importance_score':b})\n",
    "sns.barplot(data = df.head(15), x = 'importance_score', y= 'feature_name', orient = 'h');\n",
    "plt.title('Feature Importance From Random Forest');\n",
    "plt.xlabel('Feature Importance Score');\n",
    "plt.ylabel('Features');"
   ]
  },
  {
   "cell_type": "code",
   "execution_count": null,
   "metadata": {},
   "outputs": [],
   "source": []
  }
 ],
 "metadata": {
  "kernelspec": {
   "display_name": "Python 3",
   "language": "python",
   "name": "python3"
  },
  "language_info": {
   "codemirror_mode": {
    "name": "ipython",
    "version": 3
   },
   "file_extension": ".py",
   "mimetype": "text/x-python",
   "name": "python",
   "nbconvert_exporter": "python",
   "pygments_lexer": "ipython3",
   "version": "3.7.6"
  },
  "toc": {
   "base_numbering": 1,
   "nav_menu": {},
   "number_sections": true,
   "sideBar": true,
   "skip_h1_title": false,
   "title_cell": "Table of Contents",
   "title_sidebar": "Contents",
   "toc_cell": true,
   "toc_position": {},
   "toc_section_display": true,
   "toc_window_display": false
  },
  "varInspector": {
   "cols": {
    "lenName": 16,
    "lenType": 16,
    "lenVar": 40
   },
   "kernels_config": {
    "python": {
     "delete_cmd_postfix": "",
     "delete_cmd_prefix": "del ",
     "library": "var_list.py",
     "varRefreshCmd": "print(var_dic_list())"
    },
    "r": {
     "delete_cmd_postfix": ") ",
     "delete_cmd_prefix": "rm(",
     "library": "var_list.r",
     "varRefreshCmd": "cat(var_dic_list()) "
    }
   },
   "types_to_exclude": [
    "module",
    "function",
    "builtin_function_or_method",
    "instance",
    "_Feature"
   ],
   "window_display": false
  }
 },
 "nbformat": 4,
 "nbformat_minor": 4
}
